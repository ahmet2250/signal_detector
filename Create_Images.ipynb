{
 "cells": [
  {
   "cell_type": "markdown",
   "metadata": {},
   "source": [
    "<a id='sectionb'></a>\n",
    "## 1. Data Exploration\n",
    "\n",
    "In this part, we will mainly examine the distributions and meanings of each variable at first. Then give decisions about feature selection and missing value imputation techniques to create a sufficient data for the modeling part."
   ]
  },
  {
   "cell_type": "code",
   "execution_count": 1,
   "metadata": {},
   "outputs": [],
   "source": [
    "# Import needed packages for the data exploration stage\n",
    "import numpy as np\n",
    "import pandas as pd\n",
    "import matplotlib.pyplot as plt\n",
    "import sklearn\n",
    "from sklearn.impute import SimpleImputer\n",
    "import seaborn as sns\n",
    "from sklearn import preprocessing\n",
    "from PIL import Image\n",
    "\n",
    "pd.set_option('display.max_columns', None)"
   ]
  },
  {
   "cell_type": "code",
   "execution_count": 2,
   "metadata": {},
   "outputs": [
    {
     "data": {
      "text/html": [
       "<div>\n",
       "<style scoped>\n",
       "    .dataframe tbody tr th:only-of-type {\n",
       "        vertical-align: middle;\n",
       "    }\n",
       "\n",
       "    .dataframe tbody tr th {\n",
       "        vertical-align: top;\n",
       "    }\n",
       "\n",
       "    .dataframe thead th {\n",
       "        text-align: right;\n",
       "    }\n",
       "</style>\n",
       "<table border=\"1\" class=\"dataframe\">\n",
       "  <thead>\n",
       "    <tr style=\"text-align: right;\">\n",
       "      <th></th>\n",
       "      <th>Ax</th>\n",
       "      <th>Ay</th>\n",
       "      <th>Az</th>\n",
       "      <th>Gx</th>\n",
       "      <th>Gy</th>\n",
       "      <th>Gz</th>\n",
       "      <th>Room</th>\n",
       "      <th>Obj,,</th>\n",
       "    </tr>\n",
       "  </thead>\n",
       "  <tbody>\n",
       "    <tr>\n",
       "      <th>0</th>\n",
       "      <td>3692</td>\n",
       "      <td>-3452</td>\n",
       "      <td>15500</td>\n",
       "      <td>-111</td>\n",
       "      <td>-258</td>\n",
       "      <td>-43</td>\n",
       "      <td>32,47</td>\n",
       "      <td>24,71</td>\n",
       "    </tr>\n",
       "    <tr>\n",
       "      <th>1</th>\n",
       "      <td>3748</td>\n",
       "      <td>-3468</td>\n",
       "      <td>15428</td>\n",
       "      <td>-31</td>\n",
       "      <td>-176</td>\n",
       "      <td>-72</td>\n",
       "      <td>32,29</td>\n",
       "      <td>24,71</td>\n",
       "    </tr>\n",
       "    <tr>\n",
       "      <th>2</th>\n",
       "      <td>3952</td>\n",
       "      <td>-3208</td>\n",
       "      <td>15196</td>\n",
       "      <td>36</td>\n",
       "      <td>-436</td>\n",
       "      <td>-120</td>\n",
       "      <td>32,17</td>\n",
       "      <td>24,27</td>\n",
       "    </tr>\n",
       "    <tr>\n",
       "      <th>3</th>\n",
       "      <td>4084</td>\n",
       "      <td>-3228</td>\n",
       "      <td>15380</td>\n",
       "      <td>-341</td>\n",
       "      <td>-190</td>\n",
       "      <td>-74</td>\n",
       "      <td>32,11</td>\n",
       "      <td>26,43</td>\n",
       "    </tr>\n",
       "    <tr>\n",
       "      <th>4</th>\n",
       "      <td>4304</td>\n",
       "      <td>-3132</td>\n",
       "      <td>15360</td>\n",
       "      <td>-580</td>\n",
       "      <td>-200</td>\n",
       "      <td>29</td>\n",
       "      <td>32,03</td>\n",
       "      <td>29,19</td>\n",
       "    </tr>\n",
       "  </tbody>\n",
       "</table>\n",
       "</div>"
      ],
      "text/plain": [
       "     Ax    Ay     Az   Gx   Gy    Gz  Room   Obj,,\n",
       "0  3692 -3452  15500 -111 -258   -43  32,47  24,71\n",
       "1  3748 -3468  15428  -31 -176   -72  32,29  24,71\n",
       "2  3952 -3208  15196   36 -436  -120  32,17  24,27\n",
       "3  4084 -3228  15380 -341 -190   -74  32,11  26,43\n",
       "4  4304 -3132  15360 -580 -200    29  32,03  29,19"
      ]
     },
     "execution_count": 2,
     "metadata": {},
     "output_type": "execute_result"
    }
   ],
   "source": [
    "csv = '.\\data\\custom\\rawdata.csv' # Assign the name of the csv file.\n",
    "dataframe = pd.read_csv(csv, sep=\";\") # Read the csv file.\n",
    "dataframe.head() # Inspect the raw data."
   ]
  },
  {
   "cell_type": "code",
   "execution_count": 3,
   "metadata": {},
   "outputs": [
    {
     "data": {
      "text/html": [
       "<div>\n",
       "<style scoped>\n",
       "    .dataframe tbody tr th:only-of-type {\n",
       "        vertical-align: middle;\n",
       "    }\n",
       "\n",
       "    .dataframe tbody tr th {\n",
       "        vertical-align: top;\n",
       "    }\n",
       "\n",
       "    .dataframe thead th {\n",
       "        text-align: right;\n",
       "    }\n",
       "</style>\n",
       "<table border=\"1\" class=\"dataframe\">\n",
       "  <thead>\n",
       "    <tr style=\"text-align: right;\">\n",
       "      <th></th>\n",
       "      <th>Ax</th>\n",
       "      <th>Ay</th>\n",
       "      <th>Az</th>\n",
       "      <th>Gx</th>\n",
       "      <th>Gy</th>\n",
       "    </tr>\n",
       "  </thead>\n",
       "  <tbody>\n",
       "    <tr>\n",
       "      <th>count</th>\n",
       "      <td>472.000000</td>\n",
       "      <td>472.000000</td>\n",
       "      <td>472.000000</td>\n",
       "      <td>472.000000</td>\n",
       "      <td>4.720000e+02</td>\n",
       "    </tr>\n",
       "    <tr>\n",
       "      <th>mean</th>\n",
       "      <td>9764.542373</td>\n",
       "      <td>-2314.983051</td>\n",
       "      <td>10634.127119</td>\n",
       "      <td>-228.796610</td>\n",
       "      <td>2.568729e+04</td>\n",
       "    </tr>\n",
       "    <tr>\n",
       "      <th>std</th>\n",
       "      <td>5339.093567</td>\n",
       "      <td>850.869389</td>\n",
       "      <td>4605.279140</td>\n",
       "      <td>1574.993154</td>\n",
       "      <td>5.598400e+05</td>\n",
       "    </tr>\n",
       "    <tr>\n",
       "      <th>min</th>\n",
       "      <td>3436.000000</td>\n",
       "      <td>-5768.000000</td>\n",
       "      <td>4988.000000</td>\n",
       "      <td>-7333.000000</td>\n",
       "      <td>-1.018100e+04</td>\n",
       "    </tr>\n",
       "    <tr>\n",
       "      <th>25%</th>\n",
       "      <td>4267.000000</td>\n",
       "      <td>-2955.000000</td>\n",
       "      <td>5944.000000</td>\n",
       "      <td>-559.750000</td>\n",
       "      <td>-3.412500e+02</td>\n",
       "    </tr>\n",
       "    <tr>\n",
       "      <th>50%</th>\n",
       "      <td>12622.000000</td>\n",
       "      <td>-2118.000000</td>\n",
       "      <td>9364.000000</td>\n",
       "      <td>-313.500000</td>\n",
       "      <td>-1.000000e+00</td>\n",
       "    </tr>\n",
       "    <tr>\n",
       "      <th>75%</th>\n",
       "      <td>15126.000000</td>\n",
       "      <td>-1660.000000</td>\n",
       "      <td>15308.000000</td>\n",
       "      <td>-68.750000</td>\n",
       "      <td>2.982500e+02</td>\n",
       "    </tr>\n",
       "    <tr>\n",
       "      <th>max</th>\n",
       "      <td>16172.000000</td>\n",
       "      <td>312.000000</td>\n",
       "      <td>16076.000000</td>\n",
       "      <td>31153.000000</td>\n",
       "      <td>1.216274e+07</td>\n",
       "    </tr>\n",
       "  </tbody>\n",
       "</table>\n",
       "</div>"
      ],
      "text/plain": [
       "                 Ax           Ay            Az            Gx            Gy\n",
       "count    472.000000   472.000000    472.000000    472.000000  4.720000e+02\n",
       "mean    9764.542373 -2314.983051  10634.127119   -228.796610  2.568729e+04\n",
       "std     5339.093567   850.869389   4605.279140   1574.993154  5.598400e+05\n",
       "min     3436.000000 -5768.000000   4988.000000  -7333.000000 -1.018100e+04\n",
       "25%     4267.000000 -2955.000000   5944.000000   -559.750000 -3.412500e+02\n",
       "50%    12622.000000 -2118.000000   9364.000000   -313.500000 -1.000000e+00\n",
       "75%    15126.000000 -1660.000000  15308.000000    -68.750000  2.982500e+02\n",
       "max    16172.000000   312.000000  16076.000000  31153.000000  1.216274e+07"
      ]
     },
     "execution_count": 3,
     "metadata": {},
     "output_type": "execute_result"
    }
   ],
   "source": [
    "dataframe.describe()"
   ]
  },
  {
   "cell_type": "code",
   "execution_count": 4,
   "metadata": {},
   "outputs": [
    {
     "name": "stdout",
     "output_type": "stream",
     "text": [
      "<class 'pandas.core.frame.DataFrame'>\n",
      "RangeIndex: 472 entries, 0 to 471\n",
      "Data columns (total 8 columns):\n",
      " #   Column  Non-Null Count  Dtype \n",
      "---  ------  --------------  ----- \n",
      " 0   Ax      472 non-null    int64 \n",
      " 1   Ay      472 non-null    int64 \n",
      " 2   Az      472 non-null    int64 \n",
      " 3   Gx      472 non-null    int64 \n",
      " 4   Gy      472 non-null    int64 \n",
      " 5   Gz      472 non-null    object\n",
      " 6   Room    472 non-null    object\n",
      " 7   Obj,,   471 non-null    object\n",
      "dtypes: int64(5), object(3)\n",
      "memory usage: 29.6+ KB\n"
     ]
    }
   ],
   "source": [
    "dataframe.info()"
   ]
  },
  {
   "cell_type": "code",
   "execution_count": 5,
   "metadata": {},
   "outputs": [
    {
     "data": {
      "application/vnd.plotly.v1+json": {
       "config": {
        "plotlyServerURL": "https://plot.ly"
       },
       "data": [
        {
         "mode": "lines+markers",
         "name": "Original Plot",
         "type": "scatter",
         "y": [
          3692,
          3748,
          3952,
          4084,
          4304,
          4228,
          4012,
          4016,
          3940,
          4036,
          4456,
          4764,
          5048,
          5248,
          5528,
          5792,
          5816,
          5756,
          5776,
          5668,
          5468,
          5188,
          4836,
          4532,
          4304,
          4140,
          3992,
          4004,
          3884,
          3716,
          3716,
          3700,
          3996,
          4156,
          4416,
          4860,
          5004,
          5092,
          5384,
          5372,
          5388,
          5524,
          5152,
          4888,
          4592,
          4380,
          4148,
          3960,
          3760,
          3612,
          3704,
          3748,
          3596,
          3688,
          3920,
          4124,
          4180,
          4404,
          4632,
          4768,
          4936,
          5048,
          5064,
          5000,
          4788,
          4688,
          4504,
          4360,
          4156,
          3992,
          3724,
          3732,
          3720,
          3604,
          3564,
          3712,
          3756,
          4052,
          4152,
          4176,
          4484,
          4648,
          4900,
          4940,
          4940,
          5028,
          4816,
          4664,
          4468,
          4272,
          4116,
          3856,
          3760,
          3568,
          3584,
          3540,
          3648,
          3612,
          3972,
          4000,
          4220,
          4364,
          4636,
          4776,
          4752,
          5016,
          5012,
          4960,
          4820,
          4640,
          4440,
          4168,
          4040,
          3800,
          3712,
          3748,
          3592,
          3740,
          3684,
          3636,
          3832,
          3928,
          4056,
          4400,
          4464,
          4580,
          4604,
          4648,
          4632,
          4744,
          4628,
          4428,
          4368,
          4096,
          3952,
          3792,
          3680,
          3764,
          3712,
          3708,
          3728,
          3940,
          4120,
          4284,
          4492,
          4664,
          4700,
          4760,
          4696,
          5024,
          4860,
          4840,
          4808,
          4508,
          4276,
          4064,
          3808,
          3936,
          3576,
          3612,
          3488,
          3548,
          3436,
          3444,
          3716,
          3656,
          3936,
          4144,
          4248,
          4308,
          4604,
          4620,
          4724,
          4648,
          4592,
          4636,
          4356,
          4240,
          4028,
          4008,
          3760,
          3708,
          3624,
          3612,
          3536,
          3576,
          3780,
          3800,
          4020,
          4108,
          4252,
          4460,
          4724,
          4760,
          4680,
          4656,
          4696,
          4644,
          4356,
          4092,
          4076,
          3768,
          3668,
          3580,
          3712,
          3624,
          3732,
          3596,
          3704,
          3908,
          4156,
          4288,
          4384,
          4512,
          4864,
          4832,
          4916,
          4864,
          4788,
          4552,
          4288,
          4108,
          3940,
          3808,
          3748,
          4572,
          5564,
          8840,
          6588,
          11016,
          16172,
          13300,
          15324,
          14528,
          12104,
          12552,
          12664,
          12580,
          12892,
          12740,
          12676,
          12752,
          12800,
          12704,
          12716,
          12600,
          12680,
          12732,
          12644,
          12688,
          12672,
          12416,
          12560,
          12668,
          12728,
          13032,
          13572,
          13364,
          14132,
          14952,
          15088,
          14788,
          15232,
          15456,
          15260,
          15168,
          15080,
          15048,
          14924,
          14928,
          14552,
          14560,
          14596,
          14592,
          14564,
          14448,
          14656,
          14724,
          14664,
          14704,
          14988,
          15024,
          15124,
          15148,
          15308,
          15420,
          15308,
          15384,
          15352,
          15320,
          15008,
          15108,
          14972,
          14764,
          14784,
          14720,
          14732,
          14684,
          14800,
          14920,
          14952,
          15052,
          15116,
          15256,
          15304,
          15300,
          15272,
          15412,
          15268,
          15224,
          15044,
          14896,
          14908,
          14904,
          14928,
          14824,
          14836,
          14640,
          14908,
          14936,
          14888,
          15016,
          15096,
          15072,
          15256,
          15500,
          15428,
          15516,
          15424,
          15440,
          15288,
          15200,
          15092,
          15140,
          14888,
          14884,
          15004,
          14980,
          14996,
          14844,
          14868,
          15140,
          14980,
          15080,
          15072,
          15152,
          15240,
          15256,
          15420,
          15404,
          15456,
          15476,
          15220,
          15172,
          15224,
          15004,
          15120,
          14992,
          14928,
          14868,
          15100,
          14956,
          14964,
          14988,
          15092,
          15104,
          15264,
          15352,
          15236,
          15452,
          15484,
          15472,
          15472,
          15436,
          15348,
          15284,
          15292,
          15132,
          15140,
          15076,
          15064,
          15056,
          15156,
          15048,
          15160,
          14972,
          15116,
          15184,
          15168,
          15316,
          15484,
          15428,
          15456,
          15472,
          15496,
          15500,
          15544,
          15300,
          15140,
          15216,
          15104,
          15168,
          15104,
          15080,
          15076,
          15112,
          15012,
          15112,
          15068,
          15220,
          15232,
          15364,
          15416,
          15448,
          15512,
          15500,
          15512,
          15428,
          15448,
          15276,
          15352,
          15188,
          15148,
          15080,
          15084,
          15144,
          14904,
          15064,
          14968,
          15012,
          15160,
          15168,
          15316,
          15308,
          15200,
          15364,
          15620,
          15468,
          15588,
          15648,
          15436,
          15380,
          15404,
          15504,
          15340,
          15316,
          15264,
          15156,
          15116,
          15108,
          15044,
          15088,
          15112,
          15176,
          15232,
          15212,
          15392,
          15564,
          15304,
          15336,
          15576,
          15664,
          15488,
          15404,
          15360,
          15332,
          15308,
          15064,
          15156,
          14996,
          15224,
          15040
         ]
        },
        {
         "marker": {
          "color": "red",
          "size": 8,
          "symbol": "cross"
         },
         "mode": "markers",
         "name": "Detected Peaks",
         "type": "scatter",
         "x": [
          16,
          41,
          62,
          85,
          105,
          129,
          149,
          172,
          193,
          216,
          227,
          230,
          232,
          238,
          263,
          285,
          307,
          327,
          351,
          370,
          396,
          414,
          416,
          439,
          461
         ],
         "y": [
          5816,
          5524,
          5064,
          5028,
          5016,
          4744,
          5024,
          4724,
          4760,
          4916,
          8840,
          16172,
          15324,
          12892,
          15456,
          15420,
          15412,
          15516,
          15476,
          15484,
          15544,
          15512,
          15512,
          15648,
          15664
         ]
        }
       ],
       "layout": {
        "template": {
         "data": {
          "bar": [
           {
            "error_x": {
             "color": "#2a3f5f"
            },
            "error_y": {
             "color": "#2a3f5f"
            },
            "marker": {
             "line": {
              "color": "#E5ECF6",
              "width": 0.5
             }
            },
            "type": "bar"
           }
          ],
          "barpolar": [
           {
            "marker": {
             "line": {
              "color": "#E5ECF6",
              "width": 0.5
             }
            },
            "type": "barpolar"
           }
          ],
          "carpet": [
           {
            "aaxis": {
             "endlinecolor": "#2a3f5f",
             "gridcolor": "white",
             "linecolor": "white",
             "minorgridcolor": "white",
             "startlinecolor": "#2a3f5f"
            },
            "baxis": {
             "endlinecolor": "#2a3f5f",
             "gridcolor": "white",
             "linecolor": "white",
             "minorgridcolor": "white",
             "startlinecolor": "#2a3f5f"
            },
            "type": "carpet"
           }
          ],
          "choropleth": [
           {
            "colorbar": {
             "outlinewidth": 0,
             "ticks": ""
            },
            "type": "choropleth"
           }
          ],
          "contour": [
           {
            "colorbar": {
             "outlinewidth": 0,
             "ticks": ""
            },
            "colorscale": [
             [
              0,
              "#0d0887"
             ],
             [
              0.1111111111111111,
              "#46039f"
             ],
             [
              0.2222222222222222,
              "#7201a8"
             ],
             [
              0.3333333333333333,
              "#9c179e"
             ],
             [
              0.4444444444444444,
              "#bd3786"
             ],
             [
              0.5555555555555556,
              "#d8576b"
             ],
             [
              0.6666666666666666,
              "#ed7953"
             ],
             [
              0.7777777777777778,
              "#fb9f3a"
             ],
             [
              0.8888888888888888,
              "#fdca26"
             ],
             [
              1,
              "#f0f921"
             ]
            ],
            "type": "contour"
           }
          ],
          "contourcarpet": [
           {
            "colorbar": {
             "outlinewidth": 0,
             "ticks": ""
            },
            "type": "contourcarpet"
           }
          ],
          "heatmap": [
           {
            "colorbar": {
             "outlinewidth": 0,
             "ticks": ""
            },
            "colorscale": [
             [
              0,
              "#0d0887"
             ],
             [
              0.1111111111111111,
              "#46039f"
             ],
             [
              0.2222222222222222,
              "#7201a8"
             ],
             [
              0.3333333333333333,
              "#9c179e"
             ],
             [
              0.4444444444444444,
              "#bd3786"
             ],
             [
              0.5555555555555556,
              "#d8576b"
             ],
             [
              0.6666666666666666,
              "#ed7953"
             ],
             [
              0.7777777777777778,
              "#fb9f3a"
             ],
             [
              0.8888888888888888,
              "#fdca26"
             ],
             [
              1,
              "#f0f921"
             ]
            ],
            "type": "heatmap"
           }
          ],
          "heatmapgl": [
           {
            "colorbar": {
             "outlinewidth": 0,
             "ticks": ""
            },
            "colorscale": [
             [
              0,
              "#0d0887"
             ],
             [
              0.1111111111111111,
              "#46039f"
             ],
             [
              0.2222222222222222,
              "#7201a8"
             ],
             [
              0.3333333333333333,
              "#9c179e"
             ],
             [
              0.4444444444444444,
              "#bd3786"
             ],
             [
              0.5555555555555556,
              "#d8576b"
             ],
             [
              0.6666666666666666,
              "#ed7953"
             ],
             [
              0.7777777777777778,
              "#fb9f3a"
             ],
             [
              0.8888888888888888,
              "#fdca26"
             ],
             [
              1,
              "#f0f921"
             ]
            ],
            "type": "heatmapgl"
           }
          ],
          "histogram": [
           {
            "marker": {
             "colorbar": {
              "outlinewidth": 0,
              "ticks": ""
             }
            },
            "type": "histogram"
           }
          ],
          "histogram2d": [
           {
            "colorbar": {
             "outlinewidth": 0,
             "ticks": ""
            },
            "colorscale": [
             [
              0,
              "#0d0887"
             ],
             [
              0.1111111111111111,
              "#46039f"
             ],
             [
              0.2222222222222222,
              "#7201a8"
             ],
             [
              0.3333333333333333,
              "#9c179e"
             ],
             [
              0.4444444444444444,
              "#bd3786"
             ],
             [
              0.5555555555555556,
              "#d8576b"
             ],
             [
              0.6666666666666666,
              "#ed7953"
             ],
             [
              0.7777777777777778,
              "#fb9f3a"
             ],
             [
              0.8888888888888888,
              "#fdca26"
             ],
             [
              1,
              "#f0f921"
             ]
            ],
            "type": "histogram2d"
           }
          ],
          "histogram2dcontour": [
           {
            "colorbar": {
             "outlinewidth": 0,
             "ticks": ""
            },
            "colorscale": [
             [
              0,
              "#0d0887"
             ],
             [
              0.1111111111111111,
              "#46039f"
             ],
             [
              0.2222222222222222,
              "#7201a8"
             ],
             [
              0.3333333333333333,
              "#9c179e"
             ],
             [
              0.4444444444444444,
              "#bd3786"
             ],
             [
              0.5555555555555556,
              "#d8576b"
             ],
             [
              0.6666666666666666,
              "#ed7953"
             ],
             [
              0.7777777777777778,
              "#fb9f3a"
             ],
             [
              0.8888888888888888,
              "#fdca26"
             ],
             [
              1,
              "#f0f921"
             ]
            ],
            "type": "histogram2dcontour"
           }
          ],
          "mesh3d": [
           {
            "colorbar": {
             "outlinewidth": 0,
             "ticks": ""
            },
            "type": "mesh3d"
           }
          ],
          "parcoords": [
           {
            "line": {
             "colorbar": {
              "outlinewidth": 0,
              "ticks": ""
             }
            },
            "type": "parcoords"
           }
          ],
          "pie": [
           {
            "automargin": true,
            "type": "pie"
           }
          ],
          "scatter": [
           {
            "marker": {
             "colorbar": {
              "outlinewidth": 0,
              "ticks": ""
             }
            },
            "type": "scatter"
           }
          ],
          "scatter3d": [
           {
            "line": {
             "colorbar": {
              "outlinewidth": 0,
              "ticks": ""
             }
            },
            "marker": {
             "colorbar": {
              "outlinewidth": 0,
              "ticks": ""
             }
            },
            "type": "scatter3d"
           }
          ],
          "scattercarpet": [
           {
            "marker": {
             "colorbar": {
              "outlinewidth": 0,
              "ticks": ""
             }
            },
            "type": "scattercarpet"
           }
          ],
          "scattergeo": [
           {
            "marker": {
             "colorbar": {
              "outlinewidth": 0,
              "ticks": ""
             }
            },
            "type": "scattergeo"
           }
          ],
          "scattergl": [
           {
            "marker": {
             "colorbar": {
              "outlinewidth": 0,
              "ticks": ""
             }
            },
            "type": "scattergl"
           }
          ],
          "scattermapbox": [
           {
            "marker": {
             "colorbar": {
              "outlinewidth": 0,
              "ticks": ""
             }
            },
            "type": "scattermapbox"
           }
          ],
          "scatterpolar": [
           {
            "marker": {
             "colorbar": {
              "outlinewidth": 0,
              "ticks": ""
             }
            },
            "type": "scatterpolar"
           }
          ],
          "scatterpolargl": [
           {
            "marker": {
             "colorbar": {
              "outlinewidth": 0,
              "ticks": ""
             }
            },
            "type": "scatterpolargl"
           }
          ],
          "scatterternary": [
           {
            "marker": {
             "colorbar": {
              "outlinewidth": 0,
              "ticks": ""
             }
            },
            "type": "scatterternary"
           }
          ],
          "surface": [
           {
            "colorbar": {
             "outlinewidth": 0,
             "ticks": ""
            },
            "colorscale": [
             [
              0,
              "#0d0887"
             ],
             [
              0.1111111111111111,
              "#46039f"
             ],
             [
              0.2222222222222222,
              "#7201a8"
             ],
             [
              0.3333333333333333,
              "#9c179e"
             ],
             [
              0.4444444444444444,
              "#bd3786"
             ],
             [
              0.5555555555555556,
              "#d8576b"
             ],
             [
              0.6666666666666666,
              "#ed7953"
             ],
             [
              0.7777777777777778,
              "#fb9f3a"
             ],
             [
              0.8888888888888888,
              "#fdca26"
             ],
             [
              1,
              "#f0f921"
             ]
            ],
            "type": "surface"
           }
          ],
          "table": [
           {
            "cells": {
             "fill": {
              "color": "#EBF0F8"
             },
             "line": {
              "color": "white"
             }
            },
            "header": {
             "fill": {
              "color": "#C8D4E3"
             },
             "line": {
              "color": "white"
             }
            },
            "type": "table"
           }
          ]
         },
         "layout": {
          "annotationdefaults": {
           "arrowcolor": "#2a3f5f",
           "arrowhead": 0,
           "arrowwidth": 1
          },
          "autotypenumbers": "strict",
          "coloraxis": {
           "colorbar": {
            "outlinewidth": 0,
            "ticks": ""
           }
          },
          "colorscale": {
           "diverging": [
            [
             0,
             "#8e0152"
            ],
            [
             0.1,
             "#c51b7d"
            ],
            [
             0.2,
             "#de77ae"
            ],
            [
             0.3,
             "#f1b6da"
            ],
            [
             0.4,
             "#fde0ef"
            ],
            [
             0.5,
             "#f7f7f7"
            ],
            [
             0.6,
             "#e6f5d0"
            ],
            [
             0.7,
             "#b8e186"
            ],
            [
             0.8,
             "#7fbc41"
            ],
            [
             0.9,
             "#4d9221"
            ],
            [
             1,
             "#276419"
            ]
           ],
           "sequential": [
            [
             0,
             "#0d0887"
            ],
            [
             0.1111111111111111,
             "#46039f"
            ],
            [
             0.2222222222222222,
             "#7201a8"
            ],
            [
             0.3333333333333333,
             "#9c179e"
            ],
            [
             0.4444444444444444,
             "#bd3786"
            ],
            [
             0.5555555555555556,
             "#d8576b"
            ],
            [
             0.6666666666666666,
             "#ed7953"
            ],
            [
             0.7777777777777778,
             "#fb9f3a"
            ],
            [
             0.8888888888888888,
             "#fdca26"
            ],
            [
             1,
             "#f0f921"
            ]
           ],
           "sequentialminus": [
            [
             0,
             "#0d0887"
            ],
            [
             0.1111111111111111,
             "#46039f"
            ],
            [
             0.2222222222222222,
             "#7201a8"
            ],
            [
             0.3333333333333333,
             "#9c179e"
            ],
            [
             0.4444444444444444,
             "#bd3786"
            ],
            [
             0.5555555555555556,
             "#d8576b"
            ],
            [
             0.6666666666666666,
             "#ed7953"
            ],
            [
             0.7777777777777778,
             "#fb9f3a"
            ],
            [
             0.8888888888888888,
             "#fdca26"
            ],
            [
             1,
             "#f0f921"
            ]
           ]
          },
          "colorway": [
           "#636efa",
           "#EF553B",
           "#00cc96",
           "#ab63fa",
           "#FFA15A",
           "#19d3f3",
           "#FF6692",
           "#B6E880",
           "#FF97FF",
           "#FECB52"
          ],
          "font": {
           "color": "#2a3f5f"
          },
          "geo": {
           "bgcolor": "white",
           "lakecolor": "white",
           "landcolor": "#E5ECF6",
           "showlakes": true,
           "showland": true,
           "subunitcolor": "white"
          },
          "hoverlabel": {
           "align": "left"
          },
          "hovermode": "closest",
          "mapbox": {
           "style": "light"
          },
          "paper_bgcolor": "white",
          "plot_bgcolor": "#E5ECF6",
          "polar": {
           "angularaxis": {
            "gridcolor": "white",
            "linecolor": "white",
            "ticks": ""
           },
           "bgcolor": "#E5ECF6",
           "radialaxis": {
            "gridcolor": "white",
            "linecolor": "white",
            "ticks": ""
           }
          },
          "scene": {
           "xaxis": {
            "backgroundcolor": "#E5ECF6",
            "gridcolor": "white",
            "gridwidth": 2,
            "linecolor": "white",
            "showbackground": true,
            "ticks": "",
            "zerolinecolor": "white"
           },
           "yaxis": {
            "backgroundcolor": "#E5ECF6",
            "gridcolor": "white",
            "gridwidth": 2,
            "linecolor": "white",
            "showbackground": true,
            "ticks": "",
            "zerolinecolor": "white"
           },
           "zaxis": {
            "backgroundcolor": "#E5ECF6",
            "gridcolor": "white",
            "gridwidth": 2,
            "linecolor": "white",
            "showbackground": true,
            "ticks": "",
            "zerolinecolor": "white"
           }
          },
          "shapedefaults": {
           "line": {
            "color": "#2a3f5f"
           }
          },
          "ternary": {
           "aaxis": {
            "gridcolor": "white",
            "linecolor": "white",
            "ticks": ""
           },
           "baxis": {
            "gridcolor": "white",
            "linecolor": "white",
            "ticks": ""
           },
           "bgcolor": "#E5ECF6",
           "caxis": {
            "gridcolor": "white",
            "linecolor": "white",
            "ticks": ""
           }
          },
          "title": {
           "x": 0.05
          },
          "xaxis": {
           "automargin": true,
           "gridcolor": "white",
           "linecolor": "white",
           "ticks": "",
           "title": {
            "standoff": 15
           },
           "zerolinecolor": "white",
           "zerolinewidth": 2
          },
          "yaxis": {
           "automargin": true,
           "gridcolor": "white",
           "linecolor": "white",
           "ticks": "",
           "title": {
            "standoff": 15
           },
           "zerolinecolor": "white",
           "zerolinewidth": 2
          }
         }
        }
       }
      }
     },
     "metadata": {},
     "output_type": "display_data"
    }
   ],
   "source": [
    "import plotly.graph_objects as go\n",
    "import pandas as pd\n",
    "from scipy.signal import find_peaks\n",
    "from scipy.signal import peak_prominences\n",
    "\n",
    "\n",
    "time_series = dataframe['Ax']\n",
    "\n",
    "#indices = find_peaks(time_series,distance=6, )[0]\n",
    "indices = find_peaks(time_series,prominence=400 )[0]\n",
    "\n",
    "\n",
    "fig = go.Figure()\n",
    "fig.add_trace(go.Scatter(\n",
    "    y=time_series,\n",
    "    mode='lines+markers',\n",
    "    name='Original Plot'\n",
    "))\n",
    "\n",
    "fig.add_trace(go.Scatter(\n",
    "    x=indices,\n",
    "    y=[time_series[j] for j in indices],\n",
    "    mode='markers',\n",
    "    marker=dict(\n",
    "        size=8,\n",
    "        color='red',\n",
    "        symbol='cross'\n",
    "    ),\n",
    "    name='Detected Peaks'\n",
    "))\n",
    "\n",
    "fig.show()"
   ]
  },
  {
   "cell_type": "code",
   "execution_count": 6,
   "metadata": {},
   "outputs": [
    {
     "data": {
      "text/plain": [
       "<matplotlib.axes._subplots.AxesSubplot at 0x24b9e369040>"
      ]
     },
     "execution_count": 6,
     "metadata": {},
     "output_type": "execute_result"
    },
    {
     "data": {
      "image/png": "[encoded data removed]",
      "image/svg+xml": "<?xml version=\"1.0\" encoding=\"utf-8\" standalone=\"no\"?>\r\n<!DOCTYPE svg PUBLIC \"-//W3C//DTD SVG 1.1//EN\"\r\n  \"http://www.w3.org/Graphics/SVG/1.1/DTD/svg11.dtd\">\r\n<!-- Created with matplotlib (https://matplotlib.org/) -->\r\n<svg height=\"248.518125pt\" version=\"1.1\" viewBox=\"0 0 388.0125 248.518125\" width=\"388.0125pt\" xmlns=\"http://www.w3.org/2000/svg\" xmlns:xlink=\"http://www.w3.org/1999/xlink\">\r\n <defs>\r\n  <style type=\"text/css\">\r\n*{stroke-linecap:butt;stroke-linejoin:round;}\r\n  </style>\r\n </defs>\r\n <g id=\"figure_1\">\r\n  <g id=\"patch_1\">\r\n   <path d=\"M 0 248.518125 \r\nL 388.0125 248.518125 \r\nL 388.0125 0 \r\nL 0 0 \r\nz\r\n\" style=\"fill:none;\"/>\r\n  </g>\r\n  <g id=\"axes_1\">\r\n   <g id=\"patch_2\">\r\n    <path d=\"M 46.0125 224.64 \r\nL 380.8125 224.64 \r\nL 380.8125 7.2 \r\nL 46.0125 7.2 \r\nz\r\n\" style=\"fill:#ffffff;\"/>\r\n   </g>\r\n   <g id=\"matplotlib.axis_1\">\r\n    <g id=\"xtick_1\">\r\n     <g id=\"line2d_1\">\r\n      <defs>\r\n       <path d=\"M 0 0 \r\nL 0 3.5 \r\n\" id=\"mf23aafe42e\" style=\"stroke:#000000;stroke-width:0.8;\"/>\r\n      </defs>\r\n      <g>\r\n       <use style=\"stroke:#000000;stroke-width:0.8;\" x=\"61.230682\" xlink:href=\"#mf23aafe42e\" y=\"224.64\"/>\r\n      </g>\r\n     </g>\r\n     <g id=\"text_1\">\r\n      <!-- 0 -->\r\n      <defs>\r\n       <path d=\"M 31.78125 66.40625 \r\nQ 24.171875 66.40625 20.328125 58.90625 \r\nQ 16.5 51.421875 16.5 36.375 \r\nQ 16.5 21.390625 20.328125 13.890625 \r\nQ 24.171875 6.390625 31.78125 6.390625 \r\nQ 39.453125 6.390625 43.28125 13.890625 \r\nQ 47.125 21.390625 47.125 36.375 \r\nQ 47.125 51.421875 43.28125 58.90625 \r\nQ 39.453125 66.40625 31.78125 66.40625 \r\nz\r\nM 31.78125 74.21875 \r\nQ 44.046875 74.21875 50.515625 64.515625 \r\nQ 56.984375 54.828125 56.984375 36.375 \r\nQ 56.984375 17.96875 50.515625 8.265625 \r\nQ 44.046875 -1.421875 31.78125 -1.421875 \r\nQ 19.53125 -1.421875 13.0625 8.265625 \r\nQ 6.59375 17.96875 6.59375 36.375 \r\nQ 6.59375 54.828125 13.0625 64.515625 \r\nQ 19.53125 74.21875 31.78125 74.21875 \r\nz\r\n\" id=\"DejaVuSans-48\"/>\r\n      </defs>\r\n      <g transform=\"translate(58.049432 239.238438)scale(0.1 -0.1)\">\r\n       <use xlink:href=\"#DejaVuSans-48\"/>\r\n      </g>\r\n     </g>\r\n    </g>\r\n    <g id=\"xtick_2\">\r\n     <g id=\"line2d_2\">\r\n      <g>\r\n       <use style=\"stroke:#000000;stroke-width:0.8;\" x=\"125.851411\" xlink:href=\"#mf23aafe42e\" y=\"224.64\"/>\r\n      </g>\r\n     </g>\r\n     <g id=\"text_2\">\r\n      <!-- 100 -->\r\n      <defs>\r\n       <path d=\"M 12.40625 8.296875 \r\nL 28.515625 8.296875 \r\nL 28.515625 63.921875 \r\nL 10.984375 60.40625 \r\nL 10.984375 69.390625 \r\nL 28.421875 72.90625 \r\nL 38.28125 72.90625 \r\nL 38.28125 8.296875 \r\nL 54.390625 8.296875 \r\nL 54.390625 0 \r\nL 12.40625 0 \r\nz\r\n\" id=\"DejaVuSans-49\"/>\r\n      </defs>\r\n      <g transform=\"translate(116.307661 239.238438)scale(0.1 -0.1)\">\r\n       <use xlink:href=\"#DejaVuSans-49\"/>\r\n       <use x=\"63.623047\" xlink:href=\"#DejaVuSans-48\"/>\r\n       <use x=\"127.246094\" xlink:href=\"#DejaVuSans-48\"/>\r\n      </g>\r\n     </g>\r\n    </g>\r\n    <g id=\"xtick_3\">\r\n     <g id=\"line2d_3\">\r\n      <g>\r\n       <use style=\"stroke:#000000;stroke-width:0.8;\" x=\"190.472141\" xlink:href=\"#mf23aafe42e\" y=\"224.64\"/>\r\n      </g>\r\n     </g>\r\n     <g id=\"text_3\">\r\n      <!-- 200 -->\r\n      <defs>\r\n       <path d=\"M 19.1875 8.296875 \r\nL 53.609375 8.296875 \r\nL 53.609375 0 \r\nL 7.328125 0 \r\nL 7.328125 8.296875 \r\nQ 12.9375 14.109375 22.625 23.890625 \r\nQ 32.328125 33.6875 34.8125 36.53125 \r\nQ 39.546875 41.84375 41.421875 45.53125 \r\nQ 43.3125 49.21875 43.3125 52.78125 \r\nQ 43.3125 58.59375 39.234375 62.25 \r\nQ 35.15625 65.921875 28.609375 65.921875 \r\nQ 23.96875 65.921875 18.8125 64.3125 \r\nQ 13.671875 62.703125 7.8125 59.421875 \r\nL 7.8125 69.390625 \r\nQ 13.765625 71.78125 18.9375 73 \r\nQ 24.125 74.21875 28.421875 74.21875 \r\nQ 39.75 74.21875 46.484375 68.546875 \r\nQ 53.21875 62.890625 53.21875 53.421875 \r\nQ 53.21875 48.921875 51.53125 44.890625 \r\nQ 49.859375 40.875 45.40625 35.40625 \r\nQ 44.1875 33.984375 37.640625 27.21875 \r\nQ 31.109375 20.453125 19.1875 8.296875 \r\nz\r\n\" id=\"DejaVuSans-50\"/>\r\n      </defs>\r\n      <g transform=\"translate(180.928391 239.238438)scale(0.1 -0.1)\">\r\n       <use xlink:href=\"#DejaVuSans-50\"/>\r\n       <use x=\"63.623047\" xlink:href=\"#DejaVuSans-48\"/>\r\n       <use x=\"127.246094\" xlink:href=\"#DejaVuSans-48\"/>\r\n      </g>\r\n     </g>\r\n    </g>\r\n    <g id=\"xtick_4\">\r\n     <g id=\"line2d_4\">\r\n      <g>\r\n       <use style=\"stroke:#000000;stroke-width:0.8;\" x=\"255.092871\" xlink:href=\"#mf23aafe42e\" y=\"224.64\"/>\r\n      </g>\r\n     </g>\r\n     <g id=\"text_4\">\r\n      <!-- 300 -->\r\n      <defs>\r\n       <path d=\"M 40.578125 39.3125 \r\nQ 47.65625 37.796875 51.625 33 \r\nQ 55.609375 28.21875 55.609375 21.1875 \r\nQ 55.609375 10.40625 48.1875 4.484375 \r\nQ 40.765625 -1.421875 27.09375 -1.421875 \r\nQ 22.515625 -1.421875 17.65625 -0.515625 \r\nQ 12.796875 0.390625 7.625 2.203125 \r\nL 7.625 11.71875 \r\nQ 11.71875 9.328125 16.59375 8.109375 \r\nQ 21.484375 6.890625 26.8125 6.890625 \r\nQ 36.078125 6.890625 40.9375 10.546875 \r\nQ 45.796875 14.203125 45.796875 21.1875 \r\nQ 45.796875 27.640625 41.28125 31.265625 \r\nQ 36.765625 34.90625 28.71875 34.90625 \r\nL 20.21875 34.90625 \r\nL 20.21875 43.015625 \r\nL 29.109375 43.015625 \r\nQ 36.375 43.015625 40.234375 45.921875 \r\nQ 44.09375 48.828125 44.09375 54.296875 \r\nQ 44.09375 59.90625 40.109375 62.90625 \r\nQ 36.140625 65.921875 28.71875 65.921875 \r\nQ 24.65625 65.921875 20.015625 65.03125 \r\nQ 15.375 64.15625 9.8125 62.3125 \r\nL 9.8125 71.09375 \r\nQ 15.4375 72.65625 20.34375 73.4375 \r\nQ 25.25 74.21875 29.59375 74.21875 \r\nQ 40.828125 74.21875 47.359375 69.109375 \r\nQ 53.90625 64.015625 53.90625 55.328125 \r\nQ 53.90625 49.265625 50.4375 45.09375 \r\nQ 46.96875 40.921875 40.578125 39.3125 \r\nz\r\n\" id=\"DejaVuSans-51\"/>\r\n      </defs>\r\n      <g transform=\"translate(245.549121 239.238438)scale(0.1 -0.1)\">\r\n       <use xlink:href=\"#DejaVuSans-51\"/>\r\n       <use x=\"63.623047\" xlink:href=\"#DejaVuSans-48\"/>\r\n       <use x=\"127.246094\" xlink:href=\"#DejaVuSans-48\"/>\r\n      </g>\r\n     </g>\r\n    </g>\r\n    <g id=\"xtick_5\">\r\n     <g id=\"line2d_5\">\r\n      <g>\r\n       <use style=\"stroke:#000000;stroke-width:0.8;\" x=\"319.7136\" xlink:href=\"#mf23aafe42e\" y=\"224.64\"/>\r\n      </g>\r\n     </g>\r\n     <g id=\"text_5\">\r\n      <!-- 400 -->\r\n      <defs>\r\n       <path d=\"M 37.796875 64.3125 \r\nL 12.890625 25.390625 \r\nL 37.796875 25.390625 \r\nz\r\nM 35.203125 72.90625 \r\nL 47.609375 72.90625 \r\nL 47.609375 25.390625 \r\nL 58.015625 25.390625 \r\nL 58.015625 17.1875 \r\nL 47.609375 17.1875 \r\nL 47.609375 0 \r\nL 37.796875 0 \r\nL 37.796875 17.1875 \r\nL 4.890625 17.1875 \r\nL 4.890625 26.703125 \r\nz\r\n\" id=\"DejaVuSans-52\"/>\r\n      </defs>\r\n      <g transform=\"translate(310.16985 239.238438)scale(0.1 -0.1)\">\r\n       <use xlink:href=\"#DejaVuSans-52\"/>\r\n       <use x=\"63.623047\" xlink:href=\"#DejaVuSans-48\"/>\r\n       <use x=\"127.246094\" xlink:href=\"#DejaVuSans-48\"/>\r\n      </g>\r\n     </g>\r\n    </g>\r\n   </g>\r\n   <g id=\"matplotlib.axis_2\">\r\n    <g id=\"ytick_1\">\r\n     <g id=\"line2d_6\">\r\n      <defs>\r\n       <path d=\"M 0 0 \r\nL -3.5 0 \r\n\" id=\"mf1b3104689\" style=\"stroke:#000000;stroke-width:0.8;\"/>\r\n      </defs>\r\n      <g>\r\n       <use style=\"stroke:#000000;stroke-width:0.8;\" x=\"46.0125\" xlink:href=\"#mf1b3104689\" y=\"206.00264\"/>\r\n      </g>\r\n     </g>\r\n     <g id=\"text_6\">\r\n      <!-- 4000 -->\r\n      <g transform=\"translate(13.5625 209.801859)scale(0.1 -0.1)\">\r\n       <use xlink:href=\"#DejaVuSans-52\"/>\r\n       <use x=\"63.623047\" xlink:href=\"#DejaVuSans-48\"/>\r\n       <use x=\"127.246094\" xlink:href=\"#DejaVuSans-48\"/>\r\n       <use x=\"190.869141\" xlink:href=\"#DejaVuSans-48\"/>\r\n      </g>\r\n     </g>\r\n    </g>\r\n    <g id=\"ytick_2\">\r\n     <g id=\"line2d_7\">\r\n      <g>\r\n       <use style=\"stroke:#000000;stroke-width:0.8;\" x=\"46.0125\" xlink:href=\"#mf1b3104689\" y=\"174.961069\"/>\r\n      </g>\r\n     </g>\r\n     <g id=\"text_7\">\r\n      <!-- 6000 -->\r\n      <defs>\r\n       <path d=\"M 33.015625 40.375 \r\nQ 26.375 40.375 22.484375 35.828125 \r\nQ 18.609375 31.296875 18.609375 23.390625 \r\nQ 18.609375 15.53125 22.484375 10.953125 \r\nQ 26.375 6.390625 33.015625 6.390625 \r\nQ 39.65625 6.390625 43.53125 10.953125 \r\nQ 47.40625 15.53125 47.40625 23.390625 \r\nQ 47.40625 31.296875 43.53125 35.828125 \r\nQ 39.65625 40.375 33.015625 40.375 \r\nz\r\nM 52.59375 71.296875 \r\nL 52.59375 62.3125 \r\nQ 48.875 64.0625 45.09375 64.984375 \r\nQ 41.3125 65.921875 37.59375 65.921875 \r\nQ 27.828125 65.921875 22.671875 59.328125 \r\nQ 17.53125 52.734375 16.796875 39.40625 \r\nQ 19.671875 43.65625 24.015625 45.921875 \r\nQ 28.375 48.1875 33.59375 48.1875 \r\nQ 44.578125 48.1875 50.953125 41.515625 \r\nQ 57.328125 34.859375 57.328125 23.390625 \r\nQ 57.328125 12.15625 50.6875 5.359375 \r\nQ 44.046875 -1.421875 33.015625 -1.421875 \r\nQ 20.359375 -1.421875 13.671875 8.265625 \r\nQ 6.984375 17.96875 6.984375 36.375 \r\nQ 6.984375 53.65625 15.1875 63.9375 \r\nQ 23.390625 74.21875 37.203125 74.21875 \r\nQ 40.921875 74.21875 44.703125 73.484375 \r\nQ 48.484375 72.75 52.59375 71.296875 \r\nz\r\n\" id=\"DejaVuSans-54\"/>\r\n      </defs>\r\n      <g transform=\"translate(13.5625 178.760288)scale(0.1 -0.1)\">\r\n       <use xlink:href=\"#DejaVuSans-54\"/>\r\n       <use x=\"63.623047\" xlink:href=\"#DejaVuSans-48\"/>\r\n       <use x=\"127.246094\" xlink:href=\"#DejaVuSans-48\"/>\r\n       <use x=\"190.869141\" xlink:href=\"#DejaVuSans-48\"/>\r\n      </g>\r\n     </g>\r\n    </g>\r\n    <g id=\"ytick_3\">\r\n     <g id=\"line2d_8\">\r\n      <g>\r\n       <use style=\"stroke:#000000;stroke-width:0.8;\" x=\"46.0125\" xlink:href=\"#mf1b3104689\" y=\"143.919497\"/>\r\n      </g>\r\n     </g>\r\n     <g id=\"text_8\">\r\n      <!-- 8000 -->\r\n      <defs>\r\n       <path d=\"M 31.78125 34.625 \r\nQ 24.75 34.625 20.71875 30.859375 \r\nQ 16.703125 27.09375 16.703125 20.515625 \r\nQ 16.703125 13.921875 20.71875 10.15625 \r\nQ 24.75 6.390625 31.78125 6.390625 \r\nQ 38.8125 6.390625 42.859375 10.171875 \r\nQ 46.921875 13.96875 46.921875 20.515625 \r\nQ 46.921875 27.09375 42.890625 30.859375 \r\nQ 38.875 34.625 31.78125 34.625 \r\nz\r\nM 21.921875 38.8125 \r\nQ 15.578125 40.375 12.03125 44.71875 \r\nQ 8.5 49.078125 8.5 55.328125 \r\nQ 8.5 64.0625 14.71875 69.140625 \r\nQ 20.953125 74.21875 31.78125 74.21875 \r\nQ 42.671875 74.21875 48.875 69.140625 \r\nQ 55.078125 64.0625 55.078125 55.328125 \r\nQ 55.078125 49.078125 51.53125 44.71875 \r\nQ 48 40.375 41.703125 38.8125 \r\nQ 48.828125 37.15625 52.796875 32.3125 \r\nQ 56.78125 27.484375 56.78125 20.515625 \r\nQ 56.78125 9.90625 50.3125 4.234375 \r\nQ 43.84375 -1.421875 31.78125 -1.421875 \r\nQ 19.734375 -1.421875 13.25 4.234375 \r\nQ 6.78125 9.90625 6.78125 20.515625 \r\nQ 6.78125 27.484375 10.78125 32.3125 \r\nQ 14.796875 37.15625 21.921875 38.8125 \r\nz\r\nM 18.3125 54.390625 \r\nQ 18.3125 48.734375 21.84375 45.5625 \r\nQ 25.390625 42.390625 31.78125 42.390625 \r\nQ 38.140625 42.390625 41.71875 45.5625 \r\nQ 45.3125 48.734375 45.3125 54.390625 \r\nQ 45.3125 60.0625 41.71875 63.234375 \r\nQ 38.140625 66.40625 31.78125 66.40625 \r\nQ 25.390625 66.40625 21.84375 63.234375 \r\nQ 18.3125 60.0625 18.3125 54.390625 \r\nz\r\n\" id=\"DejaVuSans-56\"/>\r\n      </defs>\r\n      <g transform=\"translate(13.5625 147.718716)scale(0.1 -0.1)\">\r\n       <use xlink:href=\"#DejaVuSans-56\"/>\r\n       <use x=\"63.623047\" xlink:href=\"#DejaVuSans-48\"/>\r\n       <use x=\"127.246094\" xlink:href=\"#DejaVuSans-48\"/>\r\n       <use x=\"190.869141\" xlink:href=\"#DejaVuSans-48\"/>\r\n      </g>\r\n     </g>\r\n    </g>\r\n    <g id=\"ytick_4\">\r\n     <g id=\"line2d_9\">\r\n      <g>\r\n       <use style=\"stroke:#000000;stroke-width:0.8;\" x=\"46.0125\" xlink:href=\"#mf1b3104689\" y=\"112.877926\"/>\r\n      </g>\r\n     </g>\r\n     <g id=\"text_9\">\r\n      <!-- 10000 -->\r\n      <g transform=\"translate(7.2 116.677145)scale(0.1 -0.1)\">\r\n       <use xlink:href=\"#DejaVuSans-49\"/>\r\n       <use x=\"63.623047\" xlink:href=\"#DejaVuSans-48\"/>\r\n       <use x=\"127.246094\" xlink:href=\"#DejaVuSans-48\"/>\r\n       <use x=\"190.869141\" xlink:href=\"#DejaVuSans-48\"/>\r\n       <use x=\"254.492188\" xlink:href=\"#DejaVuSans-48\"/>\r\n      </g>\r\n     </g>\r\n    </g>\r\n    <g id=\"ytick_5\">\r\n     <g id=\"line2d_10\">\r\n      <g>\r\n       <use style=\"stroke:#000000;stroke-width:0.8;\" x=\"46.0125\" xlink:href=\"#mf1b3104689\" y=\"81.836354\"/>\r\n      </g>\r\n     </g>\r\n     <g id=\"text_10\">\r\n      <!-- 12000 -->\r\n      <g transform=\"translate(7.2 85.635573)scale(0.1 -0.1)\">\r\n       <use xlink:href=\"#DejaVuSans-49\"/>\r\n       <use x=\"63.623047\" xlink:href=\"#DejaVuSans-50\"/>\r\n       <use x=\"127.246094\" xlink:href=\"#DejaVuSans-48\"/>\r\n       <use x=\"190.869141\" xlink:href=\"#DejaVuSans-48\"/>\r\n       <use x=\"254.492188\" xlink:href=\"#DejaVuSans-48\"/>\r\n      </g>\r\n     </g>\r\n    </g>\r\n    <g id=\"ytick_6\">\r\n     <g id=\"line2d_11\">\r\n      <g>\r\n       <use style=\"stroke:#000000;stroke-width:0.8;\" x=\"46.0125\" xlink:href=\"#mf1b3104689\" y=\"50.794783\"/>\r\n      </g>\r\n     </g>\r\n     <g id=\"text_11\">\r\n      <!-- 14000 -->\r\n      <g transform=\"translate(7.2 54.594002)scale(0.1 -0.1)\">\r\n       <use xlink:href=\"#DejaVuSans-49\"/>\r\n       <use x=\"63.623047\" xlink:href=\"#DejaVuSans-52\"/>\r\n       <use x=\"127.246094\" xlink:href=\"#DejaVuSans-48\"/>\r\n       <use x=\"190.869141\" xlink:href=\"#DejaVuSans-48\"/>\r\n       <use x=\"254.492188\" xlink:href=\"#DejaVuSans-48\"/>\r\n      </g>\r\n     </g>\r\n    </g>\r\n    <g id=\"ytick_7\">\r\n     <g id=\"line2d_12\">\r\n      <g>\r\n       <use style=\"stroke:#000000;stroke-width:0.8;\" x=\"46.0125\" xlink:href=\"#mf1b3104689\" y=\"19.753212\"/>\r\n      </g>\r\n     </g>\r\n     <g id=\"text_12\">\r\n      <!-- 16000 -->\r\n      <g transform=\"translate(7.2 23.55243)scale(0.1 -0.1)\">\r\n       <use xlink:href=\"#DejaVuSans-49\"/>\r\n       <use x=\"63.623047\" xlink:href=\"#DejaVuSans-54\"/>\r\n       <use x=\"127.246094\" xlink:href=\"#DejaVuSans-48\"/>\r\n       <use x=\"190.869141\" xlink:href=\"#DejaVuSans-48\"/>\r\n       <use x=\"254.492188\" xlink:href=\"#DejaVuSans-48\"/>\r\n      </g>\r\n     </g>\r\n    </g>\r\n   </g>\r\n   <g id=\"line2d_13\">\r\n    <path clip-path=\"url(#p58313ee704)\" d=\"M 61.230682 210.783042 \r\nL 61.876889 209.913878 \r\nL 62.523096 206.747638 \r\nL 63.169304 204.698894 \r\nL 63.815511 201.284322 \r\nL 64.461718 202.463901 \r\nL 65.107926 205.816391 \r\nL 65.754133 205.754308 \r\nL 66.40034 206.933888 \r\nL 67.046547 205.443892 \r\nL 67.692755 198.925162 \r\nL 68.985169 189.736857 \r\nL 69.631377 186.6327 \r\nL 70.923791 178.189392 \r\nL 71.569999 177.816894 \r\nL 72.216206 178.748141 \r\nL 72.862413 178.437725 \r\nL 73.50862 180.11397 \r\nL 74.154828 183.218127 \r\nL 74.801035 187.563947 \r\nL 76.09345 197.745582 \r\nL 76.739657 201.284322 \r\nL 78.032072 206.126807 \r\nL 78.678279 205.940557 \r\nL 79.324486 207.803052 \r\nL 79.970693 210.410544 \r\nL 80.616901 210.410544 \r\nL 81.263108 210.658876 \r\nL 81.909315 206.064724 \r\nL 82.555523 203.581398 \r\nL 83.20173 199.545994 \r\nL 83.847937 192.654765 \r\nL 84.494144 190.419772 \r\nL 85.140352 189.053942 \r\nL 85.786559 184.521873 \r\nL 86.432766 184.708122 \r\nL 87.078974 184.45979 \r\nL 87.725181 182.348963 \r\nL 88.371388 188.122695 \r\nL 90.31001 200.104742 \r\nL 90.956217 203.705564 \r\nL 92.894839 212.024705 \r\nL 93.541047 210.596793 \r\nL 94.187254 209.913878 \r\nL 94.833461 212.273038 \r\nL 95.479669 210.845126 \r\nL 96.772083 204.078063 \r\nL 97.41829 203.208899 \r\nL 98.710705 196.193504 \r\nL 99.356912 194.082677 \r\nL 100.00312 191.475185 \r\nL 100.649327 189.736857 \r\nL 101.295534 189.488524 \r\nL 101.941741 190.481855 \r\nL 102.587949 193.772261 \r\nL 103.234156 195.32434 \r\nL 103.880363 198.180164 \r\nL 104.526571 200.415158 \r\nL 105.172778 203.581398 \r\nL 105.818985 206.126807 \r\nL 106.465193 210.286377 \r\nL 107.1114 210.162211 \r\nL 107.757607 210.34846 \r\nL 108.403814 212.148872 \r\nL 109.050022 212.769703 \r\nL 109.696229 210.472627 \r\nL 110.342436 209.789712 \r\nL 110.988644 205.19556 \r\nL 111.634851 203.643481 \r\nL 112.281058 203.270982 \r\nL 112.927265 198.49058 \r\nL 113.573473 195.945171 \r\nL 114.21968 192.033933 \r\nL 114.865887 191.413102 \r\nL 115.512095 191.413102 \r\nL 116.158302 190.047273 \r\nL 116.804509 193.337679 \r\nL 117.450717 195.696839 \r\nL 118.743131 201.780987 \r\nL 119.389338 204.202229 \r\nL 120.035546 208.237634 \r\nL 120.681753 209.727629 \r\nL 121.32796 212.70762 \r\nL 121.974168 212.459287 \r\nL 122.620375 213.142202 \r\nL 123.266582 211.465957 \r\nL 123.91279 212.024705 \r\nL 124.558997 206.437222 \r\nL 125.205204 206.00264 \r\nL 125.851411 202.588068 \r\nL 126.497619 200.353074 \r\nL 127.143826 196.131421 \r\nL 127.790033 193.958511 \r\nL 128.436241 194.33101 \r\nL 129.082448 190.233522 \r\nL 129.728655 190.295605 \r\nL 130.374862 191.102686 \r\nL 131.02107 193.275596 \r\nL 132.313484 199.173495 \r\nL 132.959692 203.395148 \r\nL 133.605899 205.381809 \r\nL 134.252106 209.106798 \r\nL 134.898314 210.472627 \r\nL 135.544521 209.913878 \r\nL 136.190728 212.335121 \r\nL 136.836935 210.038045 \r\nL 138.12935 211.652206 \r\nL 138.775557 208.610132 \r\nL 139.421765 207.120137 \r\nL 140.067972 205.133476 \r\nL 140.714179 199.794326 \r\nL 141.360387 198.800996 \r\nL 142.006594 197.000585 \r\nL 142.652801 196.628086 \r\nL 143.299008 195.945171 \r\nL 143.945216 196.193504 \r\nL 144.591423 194.455176 \r\nL 145.23763 196.255587 \r\nL 145.883838 199.359744 \r\nL 146.530045 200.290991 \r\nL 147.176252 204.512645 \r\nL 149.114874 210.969292 \r\nL 149.761081 209.665546 \r\nL 150.407289 210.472627 \r\nL 151.053496 210.53471 \r\nL 151.699703 210.224294 \r\nL 152.992118 204.140146 \r\nL 153.638325 201.594737 \r\nL 154.93074 195.696839 \r\nL 155.576947 195.13809 \r\nL 156.223154 194.206843 \r\nL 156.869362 195.200174 \r\nL 157.515569 190.109356 \r\nL 158.161776 192.654765 \r\nL 158.807983 192.96518 \r\nL 159.454191 193.461846 \r\nL 160.100398 198.118081 \r\nL 162.03902 208.982631 \r\nL 162.685227 206.995971 \r\nL 163.331435 212.583454 \r\nL 163.977642 212.024705 \r\nL 164.623849 213.949283 \r\nL 165.270056 213.018036 \r\nL 165.916264 214.756364 \r\nL 166.562471 214.632197 \r\nL 167.208678 210.410544 \r\nL 167.854886 211.341791 \r\nL 168.501093 206.995971 \r\nL 169.1473 203.767647 \r\nL 169.793508 202.153486 \r\nL 170.439715 201.222238 \r\nL 171.085922 196.628086 \r\nL 171.732129 196.379753 \r\nL 172.378337 194.765592 \r\nL 173.024544 195.945171 \r\nL 173.670751 196.814335 \r\nL 174.316959 196.131421 \r\nL 174.963166 200.477241 \r\nL 175.609373 202.277652 \r\nL 176.25558 205.568058 \r\nL 176.901788 205.878474 \r\nL 177.547995 209.727629 \r\nL 178.194202 210.53471 \r\nL 178.84041 211.838456 \r\nL 179.486617 212.024705 \r\nL 180.132824 213.204285 \r\nL 180.779032 212.583454 \r\nL 181.425239 209.417213 \r\nL 182.071446 209.106798 \r\nL 182.717653 205.692225 \r\nL 183.363861 204.326396 \r\nL 184.010068 202.091402 \r\nL 184.656275 198.863079 \r\nL 185.302483 194.765592 \r\nL 185.94869 194.206843 \r\nL 186.594897 195.448506 \r\nL 187.241105 195.821005 \r\nL 187.887312 195.200174 \r\nL 188.533519 196.007254 \r\nL 189.825934 204.574728 \r\nL 190.472141 204.823061 \r\nL 191.118348 209.603463 \r\nL 192.410763 212.52137 \r\nL 193.05697 210.472627 \r\nL 193.703177 211.838456 \r\nL 194.349385 210.162211 \r\nL 194.995592 212.273038 \r\nL 195.641799 210.596793 \r\nL 196.288007 207.430553 \r\nL 196.934214 203.581398 \r\nL 197.580421 201.532654 \r\nL 198.226629 200.042659 \r\nL 198.872836 198.055998 \r\nL 199.519043 192.592682 \r\nL 200.16525 193.089347 \r\nL 200.811458 191.785601 \r\nL 201.457665 192.592682 \r\nL 202.103872 193.772261 \r\nL 204.042494 204.326396 \r\nL 204.688702 206.933888 \r\nL 205.334909 208.982631 \r\nL 205.981116 209.913878 \r\nL 206.627323 197.124751 \r\nL 207.273531 181.728132 \r\nL 207.919738 130.882037 \r\nL 208.565945 165.834847 \r\nL 209.85836 17.083636 \r\nL 210.504567 61.659333 \r\nL 211.150774 30.245263 \r\nL 211.796982 42.599808 \r\nL 212.443189 80.222193 \r\nL 213.089396 73.268881 \r\nL 213.735604 71.530553 \r\nL 214.381811 72.834299 \r\nL 215.028018 67.991814 \r\nL 215.674226 70.350973 \r\nL 216.320433 71.344303 \r\nL 216.96664 70.164724 \r\nL 217.612847 69.419726 \r\nL 218.259055 70.909721 \r\nL 218.905262 70.723472 \r\nL 219.551469 72.523883 \r\nL 220.197677 71.28222 \r\nL 220.843884 70.475139 \r\nL 221.490091 71.840968 \r\nL 222.136298 71.158054 \r\nL 222.782506 71.406386 \r\nL 223.428713 75.379708 \r\nL 224.07492 73.144714 \r\nL 224.721128 71.46847 \r\nL 225.367335 70.537222 \r\nL 226.013542 65.818904 \r\nL 226.65975 57.437679 \r\nL 227.305957 60.666003 \r\nL 228.598371 36.018995 \r\nL 229.244579 33.908168 \r\nL 229.890786 38.564404 \r\nL 230.536993 31.673175 \r\nL 231.183201 28.196519 \r\nL 231.829408 31.238593 \r\nL 233.121823 34.032334 \r\nL 233.76803 34.529 \r\nL 234.414237 36.453577 \r\nL 235.060444 36.391494 \r\nL 235.706652 42.227309 \r\nL 236.352859 42.103143 \r\nL 236.999066 41.544395 \r\nL 237.645274 41.606478 \r\nL 238.291481 42.04106 \r\nL 238.937688 43.841471 \r\nL 239.583895 40.613148 \r\nL 240.230103 39.557734 \r\nL 240.87631 40.488981 \r\nL 241.522517 39.86815 \r\nL 242.168725 35.460247 \r\nL 242.814932 34.901498 \r\nL 243.461139 33.34942 \r\nL 244.107347 32.976921 \r\nL 244.753554 30.493595 \r\nL 245.399761 28.755267 \r\nL 246.045968 30.493595 \r\nL 246.692176 29.314016 \r\nL 247.98459 30.307346 \r\nL 248.630798 35.149831 \r\nL 249.277005 33.597752 \r\nL 249.923212 35.708579 \r\nL 250.56942 38.936903 \r\nL 251.215627 38.626487 \r\nL 251.861834 39.619817 \r\nL 252.508041 39.433568 \r\nL 253.154249 40.178566 \r\nL 254.446663 36.51566 \r\nL 255.092871 36.018995 \r\nL 255.739078 34.466916 \r\nL 256.385285 33.473586 \r\nL 257.031492 31.300676 \r\nL 257.6777 30.555678 \r\nL 258.323907 30.617762 \r\nL 258.970114 31.052344 \r\nL 259.616322 28.879434 \r\nL 260.262529 31.114427 \r\nL 260.908736 31.797341 \r\nL 261.554944 34.591083 \r\nL 262.201151 36.888159 \r\nL 262.847358 36.70191 \r\nL 263.493565 36.763993 \r\nL 264.139773 36.391494 \r\nL 264.78598 38.005656 \r\nL 265.432187 37.819406 \r\nL 266.078395 40.86148 \r\nL 266.724602 36.70191 \r\nL 267.370809 36.267328 \r\nL 268.017017 37.012325 \r\nL 268.663224 35.025665 \r\nL 269.309431 33.784002 \r\nL 269.955638 34.156501 \r\nL 270.601846 31.300676 \r\nL 271.248053 27.513604 \r\nL 271.89426 28.631101 \r\nL 272.540468 27.265272 \r\nL 273.186675 28.693184 \r\nL 273.832882 28.444852 \r\nL 274.479089 30.804011 \r\nL 275.125297 32.16984 \r\nL 275.771504 33.846085 \r\nL 276.417711 33.101087 \r\nL 277.063919 37.012325 \r\nL 277.710126 37.074408 \r\nL 278.356333 35.211914 \r\nL 279.002541 35.584413 \r\nL 279.648748 35.33608 \r\nL 280.294955 37.69524 \r\nL 280.941162 37.322741 \r\nL 281.58737 33.101087 \r\nL 282.233577 35.584413 \r\nL 282.879784 34.032334 \r\nL 283.525992 34.156501 \r\nL 284.818406 31.549009 \r\nL 285.464613 31.300676 \r\nL 286.110821 28.755267 \r\nL 286.757028 29.0036 \r\nL 287.403235 28.196519 \r\nL 288.049443 27.886103 \r\nL 288.69565 31.859424 \r\nL 289.341857 32.604422 \r\nL 289.988065 31.797341 \r\nL 290.634272 35.211914 \r\nL 291.280479 33.411503 \r\nL 291.926686 35.398164 \r\nL 293.219101 37.322741 \r\nL 293.865308 33.721919 \r\nL 294.511516 35.956912 \r\nL 295.157723 35.832746 \r\nL 295.80393 35.460247 \r\nL 296.450138 33.846085 \r\nL 297.096345 33.659836 \r\nL 297.742552 31.17651 \r\nL 298.388759 29.810681 \r\nL 299.034967 31.611092 \r\nL 299.681174 28.258602 \r\nL 300.327381 27.761937 \r\nL 300.973589 27.948186 \r\nL 301.619796 27.948186 \r\nL 302.266003 28.506935 \r\nL 302.91221 29.872764 \r\nL 303.558418 30.866094 \r\nL 304.204625 30.741928 \r\nL 304.850832 33.225254 \r\nL 305.49704 33.101087 \r\nL 306.143247 34.094418 \r\nL 307.435662 34.404833 \r\nL 308.081869 32.852755 \r\nL 308.728076 34.529 \r\nL 309.374283 32.790672 \r\nL 310.020491 35.708579 \r\nL 310.666698 33.473586 \r\nL 311.312905 32.418173 \r\nL 311.959113 32.666505 \r\nL 313.251527 27.761937 \r\nL 313.897735 28.631101 \r\nL 314.543942 28.196519 \r\nL 315.190149 27.948186 \r\nL 315.836356 27.575688 \r\nL 316.482564 27.513604 \r\nL 317.128771 26.83069 \r\nL 317.774978 30.617762 \r\nL 318.421186 33.101087 \r\nL 319.067393 31.921508 \r\nL 319.7136 33.659836 \r\nL 320.359807 32.666505 \r\nL 321.006015 33.659836 \r\nL 321.652222 34.032334 \r\nL 322.298429 34.094418 \r\nL 322.944637 33.535669 \r\nL 323.590844 35.087748 \r\nL 324.237051 33.535669 \r\nL 324.883259 34.218584 \r\nL 325.529466 31.859424 \r\nL 326.175673 31.673175 \r\nL 326.82188 29.624431 \r\nL 327.468088 28.81735 \r\nL 328.114295 28.320685 \r\nL 328.760502 27.327355 \r\nL 329.40671 27.513604 \r\nL 330.052917 27.327355 \r\nL 330.699124 28.631101 \r\nL 331.345331 28.320685 \r\nL 331.991539 30.99026 \r\nL 332.637746 29.810681 \r\nL 333.283953 32.35609 \r\nL 333.930161 32.976921 \r\nL 334.576368 34.032334 \r\nL 335.222575 33.970251 \r\nL 335.868783 33.039004 \r\nL 336.51499 36.763993 \r\nL 337.161197 34.280667 \r\nL 337.807404 35.770662 \r\nL 338.453612 35.087748 \r\nL 339.099819 32.790672 \r\nL 339.746026 32.666505 \r\nL 340.392234 30.369429 \r\nL 341.038441 30.493595 \r\nL 341.684648 32.16984 \r\nL 342.330856 29.624431 \r\nL 342.977063 25.65111 \r\nL 343.62327 28.01027 \r\nL 344.269477 26.147775 \r\nL 344.915685 25.216528 \r\nL 345.561892 28.506935 \r\nL 346.208099 29.376099 \r\nL 346.854307 29.0036 \r\nL 347.500514 27.451521 \r\nL 348.146721 29.99693 \r\nL 348.792928 30.369429 \r\nL 349.439136 31.17651 \r\nL 350.085343 32.852755 \r\nL 350.73155 33.473586 \r\nL 351.377758 33.597752 \r\nL 352.023965 34.591083 \r\nL 352.670172 33.908168 \r\nL 353.31638 33.535669 \r\nL 354.608794 31.673175 \r\nL 355.255001 31.983591 \r\nL 356.547416 26.520274 \r\nL 357.193623 30.555678 \r\nL 357.839831 30.059013 \r\nL 358.486038 26.334025 \r\nL 359.132245 24.968196 \r\nL 359.778453 27.699854 \r\nL 360.42466 29.0036 \r\nL 361.070867 29.686514 \r\nL 362.363282 30.493595 \r\nL 363.009489 34.280667 \r\nL 363.655696 32.852755 \r\nL 364.301904 35.33608 \r\nL 364.948111 31.797341 \r\nL 365.594318 34.653166 \r\nL 365.594318 34.653166 \r\n\" style=\"fill:none;stroke:#1f77b4;stroke-linecap:square;stroke-width:1.5;\"/>\r\n   </g>\r\n   <g id=\"patch_3\">\r\n    <path d=\"M 46.0125 224.64 \r\nL 46.0125 7.2 \r\n\" style=\"fill:none;stroke:#000000;stroke-linecap:square;stroke-linejoin:miter;stroke-width:0.8;\"/>\r\n   </g>\r\n   <g id=\"patch_4\">\r\n    <path d=\"M 380.8125 224.64 \r\nL 380.8125 7.2 \r\n\" style=\"fill:none;stroke:#000000;stroke-linecap:square;stroke-linejoin:miter;stroke-width:0.8;\"/>\r\n   </g>\r\n   <g id=\"patch_5\">\r\n    <path d=\"M 46.0125 224.64 \r\nL 380.8125 224.64 \r\n\" style=\"fill:none;stroke:#000000;stroke-linecap:square;stroke-linejoin:miter;stroke-width:0.8;\"/>\r\n   </g>\r\n   <g id=\"patch_6\">\r\n    <path d=\"M 46.0125 7.2 \r\nL 380.8125 7.2 \r\n\" style=\"fill:none;stroke:#000000;stroke-linecap:square;stroke-linejoin:miter;stroke-width:0.8;\"/>\r\n   </g>\r\n  </g>\r\n </g>\r\n <defs>\r\n  <clipPath id=\"p58313ee704\">\r\n   <rect height=\"217.44\" width=\"334.8\" x=\"46.0125\" y=\"7.2\"/>\r\n  </clipPath>\r\n </defs>\r\n</svg>\r\n",
      "text/plain": [
       "<Figure size 432x288 with 1 Axes>"
      ]
     },
     "metadata": {
      "needs_background": "light"
     },
     "output_type": "display_data"
    }
   ],
   "source": [
    "dataframe['Ax'].plot.line()"
   ]
  },
  {
   "cell_type": "code",
   "execution_count": 72,
   "metadata": {},
   "outputs": [
    {
     "data": {
      "text/plain": [
       "True"
      ]
     },
     "execution_count": 72,
     "metadata": {},
     "output_type": "execute_result"
    }
   ],
   "source": [
    "import cv2\n",
    "import numpy as np\n",
    "\n",
    "filename = './data/image.png'\n",
    "img = cv2.imread(filename)\n",
    "gray = cv2.cvtColor(img,cv2.COLOR_BGR2GRAY)\n",
    "\n",
    "# find Harris corners\n",
    "gray = np.float32(gray)\n",
    "dst = cv2.cornerHarris(gray,2,3,0.04)\n",
    "dst = cv2.dilate(dst,None)\n",
    "ret, dst = cv2.threshold(dst,0.05*dst.max(),255,0)\n",
    "dst = np.uint8(dst)\n",
    "\n",
    "# find centroids\n",
    "ret, labels, stats, centroids = cv2.connectedComponentsWithStats(dst)\n",
    "\n",
    "# define the criteria to stop and refine the corners\n",
    "criteria = (cv2.TERM_CRITERIA_EPS + cv2.TERM_CRITERIA_MAX_ITER, 100, 0.001)\n",
    "corners = cv2.cornerSubPix(gray,np.float32(centroids),(5,5),(-1,-1),criteria)\n",
    "\n",
    "# Now draw them\n",
    "res = np.hstack((centroids,corners))\n",
    "res = np.int0(res)\n",
    "img[res[:,1],res[:,0]]=[0,0,255]\n",
    "img[res[:,3],res[:,2]] = [0,255,0]\n",
    "\n",
    "cv2.imwrite('subpixel5.png',img)\n"
   ]
  },
  {
   "cell_type": "code",
   "execution_count": 7,
   "metadata": {},
   "outputs": [],
   "source": [
    "# Import needed packages for the model building stage\n",
    "import numpy as np\n",
    "import pandas as pd\n",
    "import os\n",
    "from skimage import io, transform\n",
    "import matplotlib.pyplot as plt\n",
    "import torch\n",
    "import torch.nn as nn\n",
    "import torch.nn.functional as F\n",
    "from torch.utils.data import Dataset, DataLoader\n",
    "from torchvision import transforms, utils\n",
    "from sklearn_extra.cluster import KMedoids"
   ]
  },
  {
   "cell_type": "code",
   "execution_count": 8,
   "metadata": {},
   "outputs": [],
   "source": [
    "class CustomTabularDataset(Dataset):\n",
    "    def __init__(self, data, seq_length, step_size):\n",
    "\n",
    "        self.len = data.shape[0]\n",
    "        self.seq_length = seq_length\n",
    "        self.step_size = step_size\n",
    "        self.X = data.to_numpy().astype(float)\n",
    "\n",
    "    def __len__(self):\n",
    "        return self.len - self.seq_length\n",
    "\n",
    "    def __getitem__(self, idx):\n",
    "        \n",
    "        data=self.X[idx*self.step_size:idx*self.step_size+self.seq_length] ### Ahmet ### Take the input sequence \n",
    "        return data"
   ]
  },
  {
   "cell_type": "code",
   "execution_count": 9,
   "metadata": {},
   "outputs": [],
   "source": [
    "#seq_length=80 ==> 14 saniyelik sinyal\n",
    "\n",
    "dataset_train = CustomTabularDataset(data=dataframe['Ax'], seq_length=80, step_size=1)\n",
    "                                                                                                   \n",
    "dataloader_train = DataLoader(dataset_train, batch_size=1, \n",
    "                        shuffle=False, num_workers=0) # Dataloader for Training samples    "
   ]
  },
  {
   "cell_type": "code",
   "execution_count": null,
   "metadata": {},
   "outputs": [],
   "source": [
    "idx=0\n",
    "for data in dataloader_train:\n",
    "    print_data = data.numpy()\n",
    "\n",
    "    plt.figure(figsize=(4, 4),dpi=64)\n",
    "    \n",
    "    plt.plot(print_data[0], linewidth=6, color='black')\n",
    "    plt.axis('off')\n",
    "    istr = f'{idx}'\n",
    "    #print('data'+ istr +'.png')\n",
    "    plt.savefig('data'+istr+'.jpg')\n",
    "    #plt.show()\n",
    "    #Image.open('data'+istr+'.png').convert('L').save('data'+istr+'.png')\n",
    "    idx+=1"
   ]
  },
  {
   "cell_type": "code",
   "execution_count": 35,
   "metadata": {},
   "outputs": [
    {
     "name": "stdout",
     "output_type": "stream",
     "text": [
      "[[15428. 15456. 15472. 15496. 15500. 15544. 15300. 15140. 15216. 15104.\n",
      "  15168. 15104. 15080. 15076. 15112. 15012. 15112. 15068. 15220. 15232.\n",
      "  15364. 15416. 15448. 15512. 15500. 15512. 15428. 15448. 15276. 15352.\n",
      "  15188. 15148. 15080. 15084. 15144. 14904. 15064. 14968. 15012. 15160.\n",
      "  15168. 15316. 15308. 15200. 15364. 15620. 15468. 15588. 15648. 15436.\n",
      "  15380. 15404. 15504. 15340. 15316. 15264. 15156. 15116. 15108. 15044.\n",
      "  15088. 15112. 15176. 15232. 15212. 15392. 15564. 15304. 15336. 15576.\n",
      "  15664. 15488. 15404. 15360. 15332. 15308. 15064. 15156. 14996. 15224.]]\n"
     ]
    }
   ],
   "source": []
  }
 ],
 "metadata": {
  "kernelspec": {
   "display_name": "Python 3",
   "language": "python",
   "name": "python3"
  },
  "language_info": {
   "codemirror_mode": {
    "name": "ipython",
    "version": 3
   },
   "file_extension": ".py",
   "mimetype": "text/x-python",
   "name": "python",
   "nbconvert_exporter": "python",
   "pygments_lexer": "ipython3",
   "version": "3.8.5-final"
  }
 },
 "nbformat": 4,
 "nbformat_minor": 2
}
